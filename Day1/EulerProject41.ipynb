{
 "cells": [
  {
   "cell_type": "code",
   "execution_count": 55,
   "metadata": {
    "collapsed": false
   },
   "outputs": [
    {
     "name": "stdout",
     "output_type": "stream",
     "text": [
      "No 1 2 3\n",
      "No 1 3 6\n",
      "Yes 1 4 10\n",
      "No 1 5 15\n",
      "No 1 6 21\n",
      "Yes 1 7 28\n",
      "No 1 8 36\n",
      "No 1 9 45\n",
      "[4, 7]\n",
      "1 7\n",
      "7652413\n"
     ]
    }
   ],
   "source": [
    "import itertools\n",
    "import numpy as np\n",
    "\n",
    "Pprime = []\n",
    "#Prime numbers cannot be divided by 2 or 5, so cannot end on 2,4,6,8,0,5\n",
    "#In addition, the sum of the digits cannot be divided by three.\n",
    "for p in range(2,10):\n",
    "    IntSum = sum(range(1,p+1))\n",
    "    if (IntSum % 3) > 0:\n",
    "        print('Yes',1,p,IntSum)\n",
    "        Pprime.append(p)\n",
    "    else:\n",
    "        print('No',1,p,IntSum)\n",
    "#So we can conclude that only 1-4 or 1-7 can be used\n",
    "Pmax = max(Pprime)\n",
    "print(Pprime)\n",
    "print(1,Pmax)\n",
    "\n",
    "PandigitalPrime = []\n",
    "#Let's first try the longest range\n",
    "n = max(Pprime)\n",
    "\n",
    "Permuts = itertools.permutations(range(1,n+1))\n",
    "#print(type(Permuts))\n",
    "Permuts = list(Permuts)\n",
    "#print(Permuts)\n",
    "Permuts = Permuts[::-1]\n",
    "    \n",
    "for q in Permuts:\n",
    "    #print(q)\n",
    "    if ('SubString' in vars()):\n",
    "        del SubString\n",
    "    \n",
    "    SubString = ''\n",
    "    for p in range(0,len(q)):\n",
    "        #print(str(q[p]))\n",
    "        SubString = SubString+str(q[p])\n",
    "        #print(SubString)\n",
    "    \n",
    "    SubInt = int(SubString)\n",
    "    IsPrime = is_prime(SubInt)\n",
    "    if IsPrime:\n",
    "        PandigitalPrime.append(SubInt)\n",
    "            \n",
    "#print(PandigitalPrime)\n",
    "print(max(PandigitalPrime))"
   ]
  },
  {
   "cell_type": "code",
   "execution_count": 18,
   "metadata": {
    "collapsed": false
   },
   "outputs": [],
   "source": [
    "import math\n",
    "def is_prime(n):\n",
    "    if n % 2 == 0 and n > 2: \n",
    "        return False\n",
    "    for i in range(3, int(math.sqrt(n)) + 1, 2):\n",
    "        if n % i == 0:\n",
    "            return False\n",
    "    return True"
   ]
  },
  {
   "cell_type": "code",
   "execution_count": 19,
   "metadata": {
    "collapsed": false
   },
   "outputs": [
    {
     "name": "stdout",
     "output_type": "stream",
     "text": [
      "1 is prime\n",
      "2 is prime\n",
      "3 is prime\n",
      "4 is not prime\n",
      "5 is prime\n",
      "6 is not prime\n",
      "7 is prime\n",
      "8 is not prime\n",
      "9 is not prime\n",
      "10 is not prime\n",
      "11 is prime\n",
      "12 is not prime\n",
      "13 is prime\n",
      "14 is not prime\n",
      "15 is not prime\n",
      "16 is not prime\n",
      "17 is prime\n",
      "18 is not prime\n",
      "19 is prime\n",
      "20 is not prime\n",
      "21 is not prime\n",
      "22 is not prime\n",
      "23 is prime\n",
      "24 is not prime\n",
      "25 is not prime\n",
      "26 is not prime\n",
      "27 is not prime\n",
      "28 is not prime\n",
      "29 is prime\n",
      "30 is not prime\n",
      "31 is prime\n",
      "32 is not prime\n",
      "33 is not prime\n",
      "34 is not prime\n",
      "35 is not prime\n",
      "36 is not prime\n",
      "37 is prime\n",
      "38 is not prime\n",
      "39 is not prime\n",
      "40 is not prime\n",
      "41 is prime\n",
      "42 is not prime\n",
      "43 is prime\n",
      "44 is not prime\n",
      "45 is not prime\n",
      "46 is not prime\n",
      "47 is prime\n",
      "48 is not prime\n",
      "49 is not prime\n",
      "50 is not prime\n",
      "51 is not prime\n",
      "52 is not prime\n",
      "53 is prime\n",
      "54 is not prime\n",
      "55 is not prime\n",
      "56 is not prime\n",
      "57 is not prime\n",
      "58 is not prime\n",
      "59 is prime\n",
      "60 is not prime\n",
      "61 is prime\n",
      "62 is not prime\n",
      "63 is not prime\n",
      "64 is not prime\n",
      "65 is not prime\n",
      "66 is not prime\n",
      "67 is prime\n",
      "68 is not prime\n",
      "69 is not prime\n",
      "70 is not prime\n",
      "71 is prime\n",
      "72 is not prime\n",
      "73 is prime\n",
      "74 is not prime\n",
      "75 is not prime\n",
      "76 is not prime\n",
      "77 is not prime\n",
      "78 is not prime\n",
      "79 is prime\n",
      "80 is not prime\n",
      "81 is not prime\n",
      "82 is not prime\n",
      "83 is prime\n",
      "84 is not prime\n",
      "85 is not prime\n",
      "86 is not prime\n",
      "87 is not prime\n",
      "88 is not prime\n",
      "89 is prime\n",
      "90 is not prime\n",
      "91 is not prime\n",
      "92 is not prime\n",
      "93 is not prime\n",
      "94 is not prime\n",
      "95 is not prime\n",
      "96 is not prime\n",
      "97 is prime\n",
      "98 is not prime\n",
      "99 is not prime\n"
     ]
    }
   ],
   "source": [
    "for n in range(1,100):\n",
    "    if is_prime(n):\n",
    "        print(n,'is prime')\n",
    "    else:\n",
    "        print(n,'is not prime')"
   ]
  },
  {
   "cell_type": "code",
   "execution_count": 53,
   "metadata": {
    "collapsed": false
   },
   "outputs": [
    {
     "name": "stdout",
     "output_type": "stream",
     "text": [
      "(4, 3, 2, 1)\n"
     ]
    },
    {
     "data": {
      "text/plain": [
       "'(-4-,- -3-,- -2-,- -1-)'"
      ]
     },
     "execution_count": 53,
     "metadata": {},
     "output_type": "execute_result"
    }
   ],
   "source": []
  },
  {
   "cell_type": "code",
   "execution_count": 63,
   "metadata": {
    "collapsed": false
   },
   "outputs": [
    {
     "name": "stdout",
     "output_type": "stream",
     "text": [
      "No 1 2 3\n",
      "No 1 3 6\n",
      "Yes 1 4 10\n",
      "No 1 5 15\n",
      "No 1 6 21\n",
      "Yes 1 7 28\n",
      "No 1 8 36\n",
      "No 1 9 45\n",
      "[4, 7, 4, 7, 4, 7, 4, 7]\n",
      "1 7\n",
      "7652413\n"
     ]
    }
   ],
   "source": [
    "#In addition, the sum of the digits cannot be divided by three.\n",
    "for p in range(2,10):\n",
    "    IntSum = sum(range(1,p+1))\n",
    "    if (IntSum % 3) > 0:\n",
    "        print('Yes',1,p,IntSum)\n",
    "        Pprime.append(p)\n",
    "    else:\n",
    "        print('No',1,p,IntSum)\n",
    "#So we can conclude that only 1-4 or 1-7 can be used\n",
    "Pmax = max(Pprime)\n",
    "print(Pprime)\n",
    "print(1,Pmax)\n",
    "\n",
    "PandigitalPrime = []\n",
    "#Let's first try the longest range\n",
    "n = max(Pprime)\n",
    "\n",
    "Permuts = itertools.permutations(range(1,n+1))\n",
    "#print(type(Permuts))\n",
    "Permuts = list(Permuts)\n",
    "#print(Permuts)\n",
    "Permuts = Permuts[::-1]\n",
    "\n",
    "StrPerms = [\"%1.0f%1.0f%1.0f%1.0f%1.0f%1.0f%1.0f\" % z for z in Permuts]\n",
    "#print(StrPerms)\n",
    "\n",
    "for q in StrPerms:\n",
    "    #print(q)\n",
    "    IsPrime = is_prime(int(q))\n",
    "    if IsPrime:\n",
    "        PandigitalPrime.append(int(q))\n",
    "            \n",
    "#print(PandigitalPrime)\n",
    "print(max(PandigitalPrime))"
   ]
  },
  {
   "cell_type": "code",
   "execution_count": null,
   "metadata": {
    "collapsed": true
   },
   "outputs": [],
   "source": []
  }
 ],
 "metadata": {
  "kernelspec": {
   "display_name": "Python 3",
   "language": "python",
   "name": "python3"
  },
  "language_info": {
   "codemirror_mode": {
    "name": "ipython",
    "version": 3
   },
   "file_extension": ".py",
   "mimetype": "text/x-python",
   "name": "python",
   "nbconvert_exporter": "python",
   "pygments_lexer": "ipython3",
   "version": "3.4.0"
  }
 },
 "nbformat": 4,
 "nbformat_minor": 0
}
