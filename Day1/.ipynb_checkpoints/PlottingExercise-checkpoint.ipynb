{
 "cells": [
  {
   "cell_type": "code",
   "execution_count": 1,
   "metadata": {
    "collapsed": true
   },
   "outputs": [],
   "source": [
    "%matplotlib inline\n",
    "import numpy as np\n",
    "import matplotlib.pyplot as plt"
   ]
  },
  {
   "cell_type": "code",
   "execution_count": null,
   "metadata": {
    "collapsed": true
   },
   "outputs": [],
   "source": []
  },
  {
   "cell_type": "code",
   "execution_count": 21,
   "metadata": {
    "collapsed": false
   },
   "outputs": [
    {
     "name": "stdout",
     "output_type": "stream",
     "text": [
      "81\n"
     ]
    }
   ],
   "source": [
    "file = open(\"landaufan.dat\")\n",
    "X = []\n",
    "Y = []\n",
    "Rxx = []\n",
    "RH = []\n",
    "Blocks = 0\n",
    "for line in file:\n",
    "    if line[0] == '#':\n",
    "        PotentialNewBlock = False\n",
    "    elif line == '\\n':\n",
    "        PotentialNewBlock = True\n",
    "    else:\n",
    "        if PotentialNewBlock:\n",
    "            Blocks +=1\n",
    "        \n",
    "        PotentialNewBlock = False\n",
    "        \n",
    "        #print('Yes:',line)\n",
    "        Columns = line.split()\n",
    "        #print(Columns)\n",
    "        X.append(Columns[0])\n",
    "        Y.append(Columns[1])\n",
    "        Rxx.append(Columns[3])\n",
    "        RH.append(Columns[4])\n",
    "        \n",
    "print(Blocks)"
   ]
  },
  {
   "cell_type": "code",
   "execution_count": 16,
   "metadata": {
    "collapsed": false
   },
   "outputs": [
    {
     "data": {
      "image/png": "[encoded data removed]",
      "text/plain": [
       "<matplotlib.figure.Figure at 0x7f41c1bb6e80>"
      ]
     },
     "metadata": {},
     "output_type": "display_data"
    }
   ],
   "source": [
    "plt.plot(X[0:2000])\n",
    "plt.plot(Y[0:2000])\n",
    "plt.show()"
   ]
  },
  {
   "cell_type": "code",
   "execution_count": null,
   "metadata": {
    "collapsed": true
   },
   "outputs": [],
   "source": []
  }
 ],
 "metadata": {
  "kernelspec": {
   "display_name": "Python 3",
   "language": "python",
   "name": "python3"
  },
  "language_info": {
   "codemirror_mode": {
    "name": "ipython",
    "version": 3
   },
   "file_extension": ".py",
   "mimetype": "text/x-python",
   "name": "python",
   "nbconvert_exporter": "python",
   "pygments_lexer": "ipython3",
   "version": "3.4.0"
  }
 },
 "nbformat": 4,
 "nbformat_minor": 0
}
